{
  "nbformat": 4,
  "nbformat_minor": 0,
  "metadata": {
    "colab": {
      "name": "Feed Forward ANN Implementation.ipynb",
      "provenance": [],
      "collapsed_sections": [],
      "include_colab_link": true
    },
    "kernelspec": {
      "name": "python3",
      "display_name": "Python 3"
    }
  },
  "cells": [
    {
      "cell_type": "markdown",
      "metadata": {
        "id": "view-in-github",
        "colab_type": "text"
      },
      "source": [
        "<a href=\"https://colab.research.google.com/github/pramodcgupta/Deep-Learning-Code/blob/master/Feed_Forward_ANN_Implementation.ipynb\" target=\"_parent\"><img src=\"https://colab.research.google.com/assets/colab-badge.svg\" alt=\"Open In Colab\"/></a>"
      ]
    },
    {
      "cell_type": "markdown",
      "metadata": {
        "id": "LZwoAzyIY7QY",
        "colab_type": "text"
      },
      "source": [
        "**Implementing Feed Forward Artificial Neural Network**\n",
        "\n",
        "Use Case: Predict Side effect using ANN\n",
        "\n",
        "Age >= 65 to 100 : Side Effect happenned (1)\n",
        "Age < 64 : No side effect happenned due medicine given\n",
        "\n",
        "Generate data for the same while implementing ANN\n"
      ]
    },
    {
      "cell_type": "code",
      "metadata": {
        "id": "JNRnky4-YURF",
        "colab_type": "code",
        "colab": {}
      },
      "source": [
        "# Import All libraries\n",
        "import keras\n",
        "from keras.models import Sequential\n",
        "from keras.layers import Dense\n",
        "from keras.optimizers import adam"
      ],
      "execution_count": 0,
      "outputs": []
    },
    {
      "cell_type": "code",
      "metadata": {
        "id": "PUQOFnGYZJ2Y",
        "colab_type": "code",
        "colab": {}
      },
      "source": [
        "import numpy as np\n",
        "import pandas as pd\n",
        "from random import randint\n",
        "\n",
        "train_sample = []\n",
        "train_label= []\n",
        "\n",
        "for i in range(1000): \n",
        "\n",
        "  data_0 = randint(1,64)\n",
        "  train_sample.append(data_0)\n",
        "  train_label.append(0)\n",
        "\n",
        "  data_1 = randint(65,100)\n",
        "  train_sample.append(data_1)\n",
        "  train_label.append(1)\n"
      ],
      "execution_count": 0,
      "outputs": []
    },
    {
      "cell_type": "code",
      "metadata": {
        "id": "LAMF6jpjZKHW",
        "colab_type": "code",
        "colab": {}
      },
      "source": [
        "# Convert list to array\n",
        "\n",
        "train_sample = np.array(train_sample)\n",
        "train_label = np.array(train_label)\n"
      ],
      "execution_count": 0,
      "outputs": []
    },
    {
      "cell_type": "code",
      "metadata": {
        "id": "EFGbmU_KZKDW",
        "colab_type": "code",
        "colab": {}
      },
      "source": [
        "# Standardizarion the feature scaling\n",
        "from sklearn.preprocessing import MinMaxScaler\n",
        "\n",
        "sc=MinMaxScaler(feature_range=(0,1))\n",
        "\n",
        "train_sample=sc.fit_transform(train_sample.reshape(-1,1))"
      ],
      "execution_count": 0,
      "outputs": []
    },
    {
      "cell_type": "code",
      "metadata": {
        "id": "o80rpXmWcSVY",
        "colab_type": "code",
        "colab": {
          "base_uri": "https://localhost:8080/",
          "height": 34
        },
        "outputId": "8af92f6c-74ad-4ec3-a08c-a5758c052578"
      },
      "source": [
        "train_sample.shape"
      ],
      "execution_count": 5,
      "outputs": [
        {
          "output_type": "execute_result",
          "data": {
            "text/plain": [
              "(2000, 1)"
            ]
          },
          "metadata": {
            "tags": []
          },
          "execution_count": 5
        }
      ]
    },
    {
      "cell_type": "code",
      "metadata": {
        "id": "6zZNLM89cVxf",
        "colab_type": "code",
        "colab": {
          "base_uri": "https://localhost:8080/",
          "height": 34
        },
        "outputId": "584a207d-ab2b-4572-c2f4-4dbbf3064299"
      },
      "source": [
        "train_label.shape"
      ],
      "execution_count": 6,
      "outputs": [
        {
          "output_type": "execute_result",
          "data": {
            "text/plain": [
              "(2000,)"
            ]
          },
          "metadata": {
            "tags": []
          },
          "execution_count": 6
        }
      ]
    },
    {
      "cell_type": "code",
      "metadata": {
        "id": "HiDkriYGccLP",
        "colab_type": "code",
        "colab": {
          "base_uri": "https://localhost:8080/",
          "height": 139
        },
        "outputId": "f5440036-9ad8-4b71-a18b-70499e8ef510"
      },
      "source": [
        "model = Sequential()\n",
        "\n",
        "model.add(Dense(16,input_dim=1,activation='relu'))\n",
        "\n",
        "model.add(Dense(32,activation='relu'))\n",
        "\n",
        "model.add(Dense(2,activation='softmax'))"
      ],
      "execution_count": 7,
      "outputs": [
        {
          "output_type": "stream",
          "text": [
            "WARNING:tensorflow:From /usr/local/lib/python3.6/dist-packages/keras/backend/tensorflow_backend.py:66: The name tf.get_default_graph is deprecated. Please use tf.compat.v1.get_default_graph instead.\n",
            "\n",
            "WARNING:tensorflow:From /usr/local/lib/python3.6/dist-packages/keras/backend/tensorflow_backend.py:541: The name tf.placeholder is deprecated. Please use tf.compat.v1.placeholder instead.\n",
            "\n",
            "WARNING:tensorflow:From /usr/local/lib/python3.6/dist-packages/keras/backend/tensorflow_backend.py:4432: The name tf.random_uniform is deprecated. Please use tf.random.uniform instead.\n",
            "\n"
          ],
          "name": "stdout"
        }
      ]
    },
    {
      "cell_type": "code",
      "metadata": {
        "id": "GKwQH8bgdHcd",
        "colab_type": "code",
        "colab": {
          "base_uri": "https://localhost:8080/",
          "height": 255
        },
        "outputId": "f50576b6-de1d-4d19-e71a-af76edb5cf0c"
      },
      "source": [
        "model.summary()"
      ],
      "execution_count": 8,
      "outputs": [
        {
          "output_type": "stream",
          "text": [
            "Model: \"sequential_1\"\n",
            "_________________________________________________________________\n",
            "Layer (type)                 Output Shape              Param #   \n",
            "=================================================================\n",
            "dense_1 (Dense)              (None, 16)                32        \n",
            "_________________________________________________________________\n",
            "dense_2 (Dense)              (None, 32)                544       \n",
            "_________________________________________________________________\n",
            "dense_3 (Dense)              (None, 2)                 66        \n",
            "=================================================================\n",
            "Total params: 642\n",
            "Trainable params: 642\n",
            "Non-trainable params: 0\n",
            "_________________________________________________________________\n"
          ],
          "name": "stdout"
        }
      ]
    },
    {
      "cell_type": "code",
      "metadata": {
        "id": "VyY0nDOSiFmZ",
        "colab_type": "code",
        "colab": {
          "base_uri": "https://localhost:8080/",
          "height": 105
        },
        "outputId": "b814a918-8662-4e48-f538-025c29e63b3c"
      },
      "source": [
        "model.compile(adam(lr=0.001),loss=\"sparse_categorical_crossentropy\",metrics=[\"accuracy\"])"
      ],
      "execution_count": 9,
      "outputs": [
        {
          "output_type": "stream",
          "text": [
            "WARNING:tensorflow:From /usr/local/lib/python3.6/dist-packages/keras/optimizers.py:793: The name tf.train.Optimizer is deprecated. Please use tf.compat.v1.train.Optimizer instead.\n",
            "\n",
            "WARNING:tensorflow:From /usr/local/lib/python3.6/dist-packages/keras/backend/tensorflow_backend.py:3622: The name tf.log is deprecated. Please use tf.math.log instead.\n",
            "\n"
          ],
          "name": "stdout"
        }
      ]
    },
    {
      "cell_type": "code",
      "metadata": {
        "id": "4zpYptDYiF54",
        "colab_type": "code",
        "colab": {
          "base_uri": "https://localhost:8080/",
          "height": 717
        },
        "outputId": "6b12109a-b638-4003-8584-ef5495a7d831"
      },
      "source": [
        "model.fit(train_sample,train_label,batch_size=10, epochs=10)"
      ],
      "execution_count": 10,
      "outputs": [
        {
          "output_type": "stream",
          "text": [
            "WARNING:tensorflow:From /usr/local/lib/python3.6/dist-packages/tensorflow_core/python/ops/math_grad.py:1424: where (from tensorflow.python.ops.array_ops) is deprecated and will be removed in a future version.\n",
            "Instructions for updating:\n",
            "Use tf.where in 2.0, which has the same broadcast rule as np.where\n",
            "WARNING:tensorflow:From /usr/local/lib/python3.6/dist-packages/keras/backend/tensorflow_backend.py:1033: The name tf.assign_add is deprecated. Please use tf.compat.v1.assign_add instead.\n",
            "\n",
            "WARNING:tensorflow:From /usr/local/lib/python3.6/dist-packages/keras/backend/tensorflow_backend.py:1020: The name tf.assign is deprecated. Please use tf.compat.v1.assign instead.\n",
            "\n",
            "WARNING:tensorflow:From /usr/local/lib/python3.6/dist-packages/keras/backend/tensorflow_backend.py:3005: The name tf.Session is deprecated. Please use tf.compat.v1.Session instead.\n",
            "\n",
            "Epoch 1/10\n",
            "WARNING:tensorflow:From /usr/local/lib/python3.6/dist-packages/keras/backend/tensorflow_backend.py:190: The name tf.get_default_session is deprecated. Please use tf.compat.v1.get_default_session instead.\n",
            "\n",
            "WARNING:tensorflow:From /usr/local/lib/python3.6/dist-packages/keras/backend/tensorflow_backend.py:197: The name tf.ConfigProto is deprecated. Please use tf.compat.v1.ConfigProto instead.\n",
            "\n",
            "WARNING:tensorflow:From /usr/local/lib/python3.6/dist-packages/keras/backend/tensorflow_backend.py:207: The name tf.global_variables is deprecated. Please use tf.compat.v1.global_variables instead.\n",
            "\n",
            "WARNING:tensorflow:From /usr/local/lib/python3.6/dist-packages/keras/backend/tensorflow_backend.py:216: The name tf.is_variable_initialized is deprecated. Please use tf.compat.v1.is_variable_initialized instead.\n",
            "\n",
            "WARNING:tensorflow:From /usr/local/lib/python3.6/dist-packages/keras/backend/tensorflow_backend.py:223: The name tf.variables_initializer is deprecated. Please use tf.compat.v1.variables_initializer instead.\n",
            "\n",
            "2000/2000 [==============================] - 1s 274us/step - loss: 0.5531 - acc: 0.7215\n",
            "Epoch 2/10\n",
            "2000/2000 [==============================] - 0s 130us/step - loss: 0.2365 - acc: 0.9435\n",
            "Epoch 3/10\n",
            "2000/2000 [==============================] - 0s 132us/step - loss: 0.1216 - acc: 0.9755\n",
            "Epoch 4/10\n",
            "2000/2000 [==============================] - 0s 123us/step - loss: 0.0868 - acc: 0.9825\n",
            "Epoch 5/10\n",
            "2000/2000 [==============================] - 0s 137us/step - loss: 0.0700 - acc: 0.9885\n",
            "Epoch 6/10\n",
            "2000/2000 [==============================] - 0s 118us/step - loss: 0.0611 - acc: 0.9855\n",
            "Epoch 7/10\n",
            "2000/2000 [==============================] - 0s 121us/step - loss: 0.0531 - acc: 0.9880\n",
            "Epoch 8/10\n",
            "2000/2000 [==============================] - 0s 129us/step - loss: 0.0486 - acc: 0.9905\n",
            "Epoch 9/10\n",
            "2000/2000 [==============================] - 0s 123us/step - loss: 0.0431 - acc: 0.9930\n",
            "Epoch 10/10\n",
            "2000/2000 [==============================] - 0s 143us/step - loss: 0.0402 - acc: 0.9905\n"
          ],
          "name": "stdout"
        },
        {
          "output_type": "execute_result",
          "data": {
            "text/plain": [
              "<keras.callbacks.History at 0x7f48738df2e8>"
            ]
          },
          "metadata": {
            "tags": []
          },
          "execution_count": 10
        }
      ]
    },
    {
      "cell_type": "code",
      "metadata": {
        "id": "o6NgcVmCiF1M",
        "colab_type": "code",
        "colab": {}
      },
      "source": [
        "# Create test set\n",
        "\n",
        "test_sample = []\n",
        "test_label= []\n",
        "\n",
        "for i in range(500): \n",
        "\n",
        "  data_0 = randint(1,64)\n",
        "  test_sample.append(data_0)\n",
        "  test_label.append(0)\n",
        "\n",
        "  data_1 = randint(65,100)\n",
        "  test_sample.append(data_1)\n",
        "  test_label.append(1)\n",
        "\n",
        "# Convert list to array\n",
        "\n",
        "test_sample = np.array(test_sample)\n",
        "test_label = np.array(test_label)  \n",
        "\n",
        "# Standard Scaling\n",
        "from sklearn.preprocessing import MinMaxScaler\n",
        "\n",
        "sc=MinMaxScaler(feature_range=(0,1))\n",
        "\n",
        "test_sample=sc.fit_transform(test_sample.reshape(-1,1))\n"
      ],
      "execution_count": 0,
      "outputs": []
    },
    {
      "cell_type": "code",
      "metadata": {
        "id": "NpkbSgPrkP2E",
        "colab_type": "code",
        "colab": {}
      },
      "source": [
        "\n",
        "\n",
        "test_pred=model.predict_classes(test_sample,batch_size=10)"
      ],
      "execution_count": 0,
      "outputs": []
    },
    {
      "cell_type": "code",
      "metadata": {
        "id": "UX6-TvDJki7W",
        "colab_type": "code",
        "colab": {
          "base_uri": "https://localhost:8080/",
          "height": 221
        },
        "outputId": "74c6a854-f9fd-4c23-9d64-3c07aa2aabe6"
      },
      "source": [
        "from sklearn.metrics import confusion_matrix, classification_report,accuracy_score\n",
        "\n",
        "cm = confusion_matrix(test_label,test_pred)\n",
        "\n",
        "acc=accuracy_score(test_label,test_pred)\n",
        "\n",
        "print(cm)\n",
        "\n",
        "print('Accuracy (%): ', acc)\n",
        "\n",
        "print(classification_report(test_label,test_pred))\n"
      ],
      "execution_count": 13,
      "outputs": [
        {
          "output_type": "stream",
          "text": [
            "[[500   0]\n",
            " [  0 500]]\n",
            "Accuracy (%):  1.0\n",
            "              precision    recall  f1-score   support\n",
            "\n",
            "           0       1.00      1.00      1.00       500\n",
            "           1       1.00      1.00      1.00       500\n",
            "\n",
            "    accuracy                           1.00      1000\n",
            "   macro avg       1.00      1.00      1.00      1000\n",
            "weighted avg       1.00      1.00      1.00      1000\n",
            "\n"
          ],
          "name": "stdout"
        }
      ]
    }
  ]
}