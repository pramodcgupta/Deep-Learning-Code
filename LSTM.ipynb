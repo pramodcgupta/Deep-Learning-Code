{
  "nbformat": 4,
  "nbformat_minor": 0,
  "metadata": {
    "colab": {
      "name": "Welcome To Colaboratory",
      "version": "0.3.2",
      "provenance": [],
      "collapsed_sections": [],
      "toc_visible": true,
      "include_colab_link": true
    },
    "kernelspec": {
      "display_name": "Python 3",
      "name": "python3"
    }
  },
  "cells": [
    {
      "cell_type": "markdown",
      "metadata": {
        "id": "view-in-github",
        "colab_type": "text"
      },
      "source": [
        "<a href=\"https://colab.research.google.com/github/pramodcgupta/Deep-Learning-Code/blob/master/LSTM.ipynb\" target=\"_parent\"><img src=\"https://colab.research.google.com/assets/colab-badge.svg\" alt=\"Open In Colab\"/></a>"
      ]
    },
    {
      "cell_type": "markdown",
      "metadata": {
        "colab_type": "text",
        "id": "5fCEDCU_qrC0"
      },
      "source": [
        "<p><img alt=\"Colaboratory logo\" height=\"45px\" src=\"https://colab.research.google.com/img/colab_favicon.ico\" align=\"left\" hspace=\"10px\" vspace=\"0px\"></p>\n",
        "\n",
        "<h1>Welcome to Colaboratory!</h1>\n",
        "\n",
        "\n",
        "Colaboratory is a free Jupyter notebook environment that requires no setup and runs entirely in the cloud.\n",
        "\n",
        "With Colaboratory you can write and execute code, save and share your analyses, and access powerful computing resources, all for free from your browser."
      ]
    },
    {
      "cell_type": "code",
      "metadata": {
        "colab_type": "code",
        "id": "xitplqMNk_Hc",
        "outputId": "ed4f60d2-878d-4056-c438-352dac39a112",
        "colab": {
          "height": 420
        }
      },
      "source": [
        "#@title Introducing Colaboratory { display-mode: \"form\" }\n",
        "#@markdown This 3-minute video gives an overview of the key features of Colaboratory:\n",
        "from IPython.display import YouTubeVideo\n",
        "YouTubeVideo('inN8seMm7UI', width=600, height=400)"
      ],
      "execution_count": 0,
      "outputs": [
        {
          "output_type": "execute_result",
          "data": {
            "text/html": [
              "\n",
              "        <iframe\n",
              "            width=\"600\"\n",
              "            height=\"400\"\n",
              "            src=\"https://www.youtube.com/embed/inN8seMm7UI\"\n",
              "            frameborder=\"0\"\n",
              "            allowfullscreen\n",
              "        ></iframe>\n",
              "        "
            ],
            "text/plain": [
              "<IPython.lib.display.YouTubeVideo at 0x7f956e9dda50>"
            ]
          },
          "metadata": {
            "tags": []
          },
          "execution_count": 0
        }
      ]
    },
    {
      "cell_type": "markdown",
      "metadata": {
        "colab_type": "text",
        "id": "GJBs_flRovLc"
      },
      "source": [
        "## Getting Started\n",
        "\n",
        "The document you are reading is a  [Jupyter notebook](https://jupyter.org/), hosted in Colaboratory. It is not a static page, but an interactive environment that lets you write and execute code in Python and other languages.\n",
        "\n",
        "For example, here is a **code cell** with a short Python script that computes a value, stores it in a variable, and prints the result:"
      ]
    },
    {
      "cell_type": "code",
      "metadata": {
        "colab_type": "code",
        "id": "gJr_9dXGpJ05",
        "outputId": "5626194c-e802-4293-942d-2908885c3c1f",
        "colab": {
          "height": 35
        }
      },
      "source": [
        "seconds_in_a_day = 24 * 60 * 60\n",
        "seconds_in_a_day"
      ],
      "execution_count": 0,
      "outputs": [
        {
          "output_type": "execute_result",
          "data": {
            "text/plain": [
              "86400"
            ]
          },
          "metadata": {
            "tags": []
          },
          "execution_count": 0
        }
      ]
    },
    {
      "cell_type": "markdown",
      "metadata": {
        "colab_type": "text",
        "id": "2fhs6GZ4qFMx"
      },
      "source": [
        "To execute the code in the above cell, select it with a click and then either press the play button to the left of the code, or use the keyboard shortcut \"Command/Ctrl+Enter\".\n",
        "\n",
        "All cells modify the same global state, so variables that you define by executing a cell can be used in other cells:"
      ]
    },
    {
      "cell_type": "code",
      "metadata": {
        "colab_type": "code",
        "id": "-gE-Ez1qtyIA",
        "outputId": "8d2e4259-4682-4e19-b683-7b9087f28820",
        "colab": {
          "height": 35
        }
      },
      "source": [
        "seconds_in_a_week = 7 * seconds_in_a_day\n",
        "seconds_in_a_week"
      ],
      "execution_count": 0,
      "outputs": [
        {
          "output_type": "execute_result",
          "data": {
            "text/plain": [
              "604800"
            ]
          },
          "metadata": {
            "tags": []
          },
          "execution_count": 0
        }
      ]
    },
    {
      "cell_type": "markdown",
      "metadata": {
        "colab_type": "text",
        "id": "lSrWNr3MuFUS"
      },
      "source": [
        "For more information about working with Colaboratory notebooks, see [Overview of Colaboratory](/notebooks/basic_features_overview.ipynb).\n"
      ]
    },
    {
      "cell_type": "markdown",
      "metadata": {
        "colab_type": "text",
        "id": "-Rh3-Vt9Nev9"
      },
      "source": [
        "## More Resources\n",
        "\n",
        "Learn how to make the most of Python, Jupyter, Colaboratory, and related tools with these resources:\n",
        "\n",
        "### Working with Notebooks in Colaboratory\n",
        "- [Overview of Colaboratory](/notebooks/basic_features_overview.ipynb)\n",
        "- [Guide to Markdown](/notebooks/markdown_guide.ipynb)\n",
        "- [Importing libraries and installing dependencies](/notebooks/snippets/importing_libraries.ipynb)\n",
        "- [Saving and loading notebooks in GitHub](https://colab.research.google.com/github/googlecolab/colabtools/blob/master/notebooks/colab-github-demo.ipynb)\n",
        "- [Interactive forms](/notebooks/forms.ipynb)\n",
        "- [Interactive widgets](/notebooks/widgets.ipynb)\n",
        "\n",
        "### Working with Data\n",
        "- [Loading data: Drive, Sheets, and Google Cloud Storage](/notebooks/io.ipynb) \n",
        "- [Charts: visualizing data](/notebooks/charts.ipynb)\n",
        "- [Getting started with BigQuery](/notebooks/bigquery.ipynb)\n",
        "\n",
        "### Machine Learning Crash Course\n",
        "These are a few of the notebooks from Google's online Machine Learning course. See the [full course website](https://developers.google.com/machine-learning/crash-course/) for more.\n",
        "- [Intro to Pandas](/notebooks/mlcc/intro_to_pandas.ipynb)\n",
        "- [Tensorflow concepts](/notebooks/mlcc/tensorflow_programming_concepts.ipynb)\n",
        "- [First steps with TensorFlow](/notebooks/mlcc/first_steps_with_tensor_flow.ipynb)\n",
        "- [Intro to neural nets](/notebooks/mlcc/intro_to_neural_nets.ipynb)\n",
        "- [Intro to sparse data and embeddings](/notebooks/mlcc/intro_to_sparse_data_and_embeddings.ipynb)\n",
        "\n",
        "### Using Accelerated Hardware\n",
        "- [TensorFlow with GPUs](/notebooks/gpu.ipynb)\n",
        "- [TensorFlow with TPUs](/notebooks/tpu.ipynb)"
      ]
    },
    {
      "cell_type": "markdown",
      "metadata": {
        "colab_type": "text",
        "id": "P-H6Lw1vyNNd"
      },
      "source": [
        "## Machine Learning Examples: Seedbank\n",
        "\n",
        "To see end-to-end examples of the interactive machine learning analyses that Colaboratory makes possible, check out the [Seedbank](https://research.google.com/seedbank/) project.\n",
        "\n",
        "A few featured examples:\n",
        "\n",
        "- [Neural Style Transfer](https://research.google.com/seedbank/seed/neural_style_transfer_with_tfkeras): Use deep learning to transfer style between images.\n",
        "- [EZ NSynth](https://research.google.com/seedbank/seed/ez_nsynth): Synthesize audio with WaveNet auto-encoders.\n",
        "- [Fashion MNIST with Keras and TPUs](https://research.google.com/seedbank/seed/fashion_mnist_with_keras_and_tpus): Classify fashion-related images with deep learning.\n",
        "- [DeepDream](https://research.google.com/seedbank/seed/deepdream): Produce DeepDream images from your own photos.\n",
        "- [Convolutional VAE](https://research.google.com/seedbank/seed/convolutional_vae): Create a generative model of handwritten digits."
      ]
    },
    {
      "cell_type": "code",
      "metadata": {
        "id": "pTL_DBmx1Dt1",
        "colab_type": "code",
        "colab": {
          "base_uri": "https://localhost:8080/",
          "height": 1000
        },
        "outputId": "211a4f2a-5a0c-40f8-e39b-3bd07221621a"
      },
      "source": [
        "\"\"\"\n",
        "Created on Sun Sep  1 21:27:22 2019\n",
        "\n",
        "@author: Pramodkumar Gupta\n",
        "\n",
        "@Stock Prection Using RNN - LSTM\n",
        "\"\"\"\n",
        "\n",
        "import numpy as np\n",
        "import pandas as pd\n",
        "import matplotlib.pyplot as plt\n",
        "\n",
        "# Importing the training set\n",
        "dataset_train = pd.read_csv('Google_Stock_Price_Train.csv')\n",
        "training_set = dataset_train.iloc[:, 1:2].values\n",
        "\n",
        "# Feature Scaling\n",
        "from sklearn.preprocessing import MinMaxScaler\n",
        "sc = MinMaxScaler(feature_range = (0, 1))\n",
        "training_set_scaled = sc.fit_transform(training_set)\n",
        "\n",
        "# Creating a data structure with 60 timesteps and 1 output\n",
        "X_train = []\n",
        "y_train = []\n",
        "for i in range(60, len(training_set_scaled)):\n",
        "    X_train.append(training_set_scaled[i-60:i, 0])\n",
        "    y_train.append(training_set_scaled[i, 0])\n",
        "X_train, y_train = np.array(X_train), np.array(y_train)\n",
        "\n",
        "# Reshaping\n",
        "X_train = np.reshape(X_train, (X_train.shape[0], X_train.shape[1], 1))\n",
        "\n",
        "\n",
        "# Part 2 - Building the RNN\n",
        "\n",
        "# Importing the Keras libraries and packages\n",
        "from keras.models import Sequential\n",
        "from keras.layers import Dense\n",
        "from keras.layers import LSTM\n",
        "from keras.layers import Dropout\n",
        "\n",
        "# Initialising the RNN\n",
        "regressor = Sequential()\n",
        "\n",
        "# Adding the first LSTM layer and some Dropout regularisation\n",
        "regressor.add(LSTM(units = 50, return_sequences = True, input_shape = (X_train.shape[1], 1)))\n",
        "regressor.add(Dropout(0.2))\n",
        "\n",
        "# Adding a second LSTM layer and some Dropout regularisation\n",
        "regressor.add(LSTM(units = 50, return_sequences = True))\n",
        "regressor.add(Dropout(0.2))\n",
        "\n",
        "# Adding a third LSTM layer and some Dropout regularisation\n",
        "regressor.add(LSTM(units = 50, return_sequences = True))\n",
        "regressor.add(Dropout(0.2))\n",
        "\n",
        "# Adding a fourth LSTM layer and some Dropout regularisation\n",
        "regressor.add(LSTM(units = 50))\n",
        "regressor.add(Dropout(0.2))\n",
        "\n",
        "# Adding the output layer\n",
        "regressor.add(Dense(units = 1))\n",
        "\n",
        "# Compiling the RNN\n",
        "regressor.compile(optimizer = 'adam', loss = 'mean_squared_error')\n",
        "\n",
        "# Fitting the RNN to the Training set\n",
        "regressor.fit(X_train, y_train, epochs = 100, batch_size = 32)\n",
        "\n",
        "\n",
        "\n",
        "# Part 3 - Making the predictions and visualising the results\n",
        "\n",
        "# Getting the real stock price of 2017\n",
        "dataset_test = pd.read_csv('Google_Stock_Price_Test.csv')\n",
        "real_stock_price = dataset_test.iloc[:, 1:2].values\n",
        "\n",
        "# Getting the predicted stock price of 2017\n",
        "dataset_total = pd.concat((dataset_train['Open'], dataset_test['Open']), axis = 0)\n",
        "inputs = dataset_total[len(dataset_total) - len(dataset_test) - 60:].values\n",
        "inputs = inputs.reshape(-1,1)\n",
        "inputs = sc.transform(inputs)\n",
        "X_test = []\n",
        "for i in range(60, 80):\n",
        "    X_test.append(inputs[i-60:i, 0])\n",
        "X_test = np.array(X_test)\n",
        "X_test = np.reshape(X_test, (X_test.shape[0], X_test.shape[1], 1))\n",
        "predicted_stock_price = regressor.predict(X_test)\n",
        "predicted_stock_price = sc.inverse_transform(predicted_stock_price)\n",
        "\n",
        "# Visualising the results\n",
        "plt.plot(real_stock_price, color = 'red', label = 'Real Google Stock Price')\n",
        "plt.plot(predicted_stock_price, color = 'blue', label = 'Predicted Google Stock Price')\n",
        "plt.title('Google Stock Price Prediction')\n",
        "plt.xlabel('Time')\n",
        "plt.ylabel('Google Stock Price')\n",
        "plt.legend()\n",
        "plt.show()"
      ],
      "execution_count": 2,
      "outputs": [
        {
          "output_type": "stream",
          "text": [
            "Using TensorFlow backend.\n",
            "WARNING: Logging before flag parsing goes to stderr.\n",
            "W0901 17:18:47.138345 140077438363520 deprecation_wrapper.py:119] From /usr/local/lib/python3.6/dist-packages/keras/backend/tensorflow_backend.py:66: The name tf.get_default_graph is deprecated. Please use tf.compat.v1.get_default_graph instead.\n",
            "\n",
            "W0901 17:18:47.179375 140077438363520 deprecation_wrapper.py:119] From /usr/local/lib/python3.6/dist-packages/keras/backend/tensorflow_backend.py:541: The name tf.placeholder is deprecated. Please use tf.compat.v1.placeholder instead.\n",
            "\n",
            "W0901 17:18:47.186519 140077438363520 deprecation_wrapper.py:119] From /usr/local/lib/python3.6/dist-packages/keras/backend/tensorflow_backend.py:4432: The name tf.random_uniform is deprecated. Please use tf.random.uniform instead.\n",
            "\n",
            "W0901 17:18:47.453667 140077438363520 deprecation_wrapper.py:119] From /usr/local/lib/python3.6/dist-packages/keras/backend/tensorflow_backend.py:148: The name tf.placeholder_with_default is deprecated. Please use tf.compat.v1.placeholder_with_default instead.\n",
            "\n",
            "W0901 17:18:47.463316 140077438363520 deprecation.py:506] From /usr/local/lib/python3.6/dist-packages/keras/backend/tensorflow_backend.py:3733: calling dropout (from tensorflow.python.ops.nn_ops) with keep_prob is deprecated and will be removed in a future version.\n",
            "Instructions for updating:\n",
            "Please use `rate` instead of `keep_prob`. Rate should be set to `rate = 1 - keep_prob`.\n",
            "W0901 17:18:48.153172 140077438363520 deprecation_wrapper.py:119] From /usr/local/lib/python3.6/dist-packages/keras/optimizers.py:793: The name tf.train.Optimizer is deprecated. Please use tf.compat.v1.train.Optimizer instead.\n",
            "\n",
            "W0901 17:18:48.623281 140077438363520 deprecation.py:323] From /usr/local/lib/python3.6/dist-packages/tensorflow/python/ops/math_grad.py:1250: add_dispatch_support.<locals>.wrapper (from tensorflow.python.ops.array_ops) is deprecated and will be removed in a future version.\n",
            "Instructions for updating:\n",
            "Use tf.where in 2.0, which has the same broadcast rule as np.where\n",
            "W0901 17:18:50.969109 140077438363520 deprecation_wrapper.py:119] From /usr/local/lib/python3.6/dist-packages/keras/backend/tensorflow_backend.py:1033: The name tf.assign_add is deprecated. Please use tf.compat.v1.assign_add instead.\n",
            "\n"
          ],
          "name": "stderr"
        },
        {
          "output_type": "stream",
          "text": [
            "Epoch 1/100\n",
            "1198/1198 [==============================] - 9s 8ms/step - loss: 0.0668\n",
            "Epoch 2/100\n",
            "1198/1198 [==============================] - 6s 5ms/step - loss: 0.0064\n",
            "Epoch 3/100\n",
            "1198/1198 [==============================] - 6s 5ms/step - loss: 0.0051\n",
            "Epoch 4/100\n",
            "1198/1198 [==============================] - 6s 5ms/step - loss: 0.0046\n",
            "Epoch 5/100\n",
            "1198/1198 [==============================] - 6s 5ms/step - loss: 0.0053\n",
            "Epoch 6/100\n",
            "1198/1198 [==============================] - 6s 5ms/step - loss: 0.0048\n",
            "Epoch 7/100\n",
            "1198/1198 [==============================] - 6s 5ms/step - loss: 0.0041\n",
            "Epoch 8/100\n",
            "1198/1198 [==============================] - 6s 5ms/step - loss: 0.0045\n",
            "Epoch 9/100\n",
            "1198/1198 [==============================] - 6s 5ms/step - loss: 0.0047\n",
            "Epoch 10/100\n",
            "1198/1198 [==============================] - 6s 5ms/step - loss: 0.0041\n",
            "Epoch 11/100\n",
            "1198/1198 [==============================] - 6s 5ms/step - loss: 0.0040\n",
            "Epoch 12/100\n",
            "1198/1198 [==============================] - 6s 5ms/step - loss: 0.0041\n",
            "Epoch 13/100\n",
            "1198/1198 [==============================] - 6s 5ms/step - loss: 0.0040\n",
            "Epoch 14/100\n",
            "1198/1198 [==============================] - 6s 5ms/step - loss: 0.0039\n",
            "Epoch 15/100\n",
            "1198/1198 [==============================] - 6s 5ms/step - loss: 0.0042\n",
            "Epoch 16/100\n",
            "1198/1198 [==============================] - 6s 5ms/step - loss: 0.0033\n",
            "Epoch 17/100\n",
            "1198/1198 [==============================] - 6s 5ms/step - loss: 0.0038\n",
            "Epoch 18/100\n",
            "1198/1198 [==============================] - 6s 5ms/step - loss: 0.0034\n",
            "Epoch 19/100\n",
            "1198/1198 [==============================] - 6s 5ms/step - loss: 0.0036\n",
            "Epoch 20/100\n",
            "1198/1198 [==============================] - 6s 5ms/step - loss: 0.0032\n",
            "Epoch 21/100\n",
            "1198/1198 [==============================] - 6s 5ms/step - loss: 0.0033\n",
            "Epoch 22/100\n",
            "1198/1198 [==============================] - 6s 5ms/step - loss: 0.0035\n",
            "Epoch 23/100\n",
            "1198/1198 [==============================] - 6s 5ms/step - loss: 0.0033\n",
            "Epoch 24/100\n",
            "1198/1198 [==============================] - 6s 5ms/step - loss: 0.0033\n",
            "Epoch 25/100\n",
            "1198/1198 [==============================] - 6s 5ms/step - loss: 0.0029\n",
            "Epoch 26/100\n",
            "1198/1198 [==============================] - 6s 5ms/step - loss: 0.0032\n",
            "Epoch 27/100\n",
            "1198/1198 [==============================] - 6s 5ms/step - loss: 0.0034\n",
            "Epoch 28/100\n",
            "1198/1198 [==============================] - 6s 5ms/step - loss: 0.0030\n",
            "Epoch 29/100\n",
            "1198/1198 [==============================] - 6s 5ms/step - loss: 0.0029\n",
            "Epoch 30/100\n",
            "1198/1198 [==============================] - 6s 5ms/step - loss: 0.0029\n",
            "Epoch 31/100\n",
            "1198/1198 [==============================] - 6s 5ms/step - loss: 0.0029\n",
            "Epoch 32/100\n",
            "1198/1198 [==============================] - 6s 5ms/step - loss: 0.0026\n",
            "Epoch 33/100\n",
            "1198/1198 [==============================] - 6s 5ms/step - loss: 0.0033\n",
            "Epoch 34/100\n",
            "1198/1198 [==============================] - 6s 5ms/step - loss: 0.0030\n",
            "Epoch 35/100\n",
            "1198/1198 [==============================] - 6s 5ms/step - loss: 0.0030\n",
            "Epoch 36/100\n",
            "1198/1198 [==============================] - 6s 5ms/step - loss: 0.0029\n",
            "Epoch 37/100\n",
            "1198/1198 [==============================] - 6s 5ms/step - loss: 0.0027\n",
            "Epoch 38/100\n",
            "1198/1198 [==============================] - 6s 5ms/step - loss: 0.0024\n",
            "Epoch 39/100\n",
            "1198/1198 [==============================] - 6s 5ms/step - loss: 0.0029\n",
            "Epoch 40/100\n",
            "1198/1198 [==============================] - 6s 5ms/step - loss: 0.0026\n",
            "Epoch 41/100\n",
            "1198/1198 [==============================] - 6s 5ms/step - loss: 0.0024\n",
            "Epoch 42/100\n",
            "1198/1198 [==============================] - 6s 5ms/step - loss: 0.0028\n",
            "Epoch 43/100\n",
            "1198/1198 [==============================] - 6s 5ms/step - loss: 0.0026\n",
            "Epoch 44/100\n",
            "1198/1198 [==============================] - 6s 5ms/step - loss: 0.0026\n",
            "Epoch 45/100\n",
            "1198/1198 [==============================] - 6s 5ms/step - loss: 0.0026\n",
            "Epoch 46/100\n",
            "1198/1198 [==============================] - 6s 5ms/step - loss: 0.0024\n",
            "Epoch 47/100\n",
            "1198/1198 [==============================] - 6s 5ms/step - loss: 0.0025\n",
            "Epoch 48/100\n",
            "1198/1198 [==============================] - 6s 5ms/step - loss: 0.0026\n",
            "Epoch 49/100\n",
            "1198/1198 [==============================] - 6s 5ms/step - loss: 0.0024\n",
            "Epoch 50/100\n",
            "1198/1198 [==============================] - 6s 5ms/step - loss: 0.0022\n",
            "Epoch 51/100\n",
            "1198/1198 [==============================] - 6s 5ms/step - loss: 0.0023\n",
            "Epoch 52/100\n",
            "1198/1198 [==============================] - 6s 5ms/step - loss: 0.0026\n",
            "Epoch 53/100\n",
            "1198/1198 [==============================] - 6s 5ms/step - loss: 0.0023\n",
            "Epoch 54/100\n",
            "1198/1198 [==============================] - 6s 5ms/step - loss: 0.0023\n",
            "Epoch 55/100\n",
            "1198/1198 [==============================] - 6s 5ms/step - loss: 0.0024\n",
            "Epoch 56/100\n",
            "1198/1198 [==============================] - 6s 5ms/step - loss: 0.0022\n",
            "Epoch 57/100\n",
            "1198/1198 [==============================] - 6s 5ms/step - loss: 0.0021\n",
            "Epoch 58/100\n",
            "1198/1198 [==============================] - 6s 5ms/step - loss: 0.0021\n",
            "Epoch 59/100\n",
            "1198/1198 [==============================] - 6s 5ms/step - loss: 0.0022\n",
            "Epoch 60/100\n",
            "1198/1198 [==============================] - 6s 5ms/step - loss: 0.0019\n",
            "Epoch 61/100\n",
            "1198/1198 [==============================] - 6s 5ms/step - loss: 0.0021\n",
            "Epoch 62/100\n",
            "1198/1198 [==============================] - 6s 5ms/step - loss: 0.0021\n",
            "Epoch 63/100\n",
            "1198/1198 [==============================] - 6s 5ms/step - loss: 0.0023\n",
            "Epoch 64/100\n",
            "1198/1198 [==============================] - 6s 5ms/step - loss: 0.0019\n",
            "Epoch 65/100\n",
            "1198/1198 [==============================] - 6s 5ms/step - loss: 0.0018\n",
            "Epoch 66/100\n",
            "1198/1198 [==============================] - 6s 5ms/step - loss: 0.0022\n",
            "Epoch 67/100\n",
            "1198/1198 [==============================] - 6s 5ms/step - loss: 0.0022\n",
            "Epoch 68/100\n",
            "1198/1198 [==============================] - 6s 5ms/step - loss: 0.0020\n",
            "Epoch 69/100\n",
            "1198/1198 [==============================] - 6s 5ms/step - loss: 0.0019\n",
            "Epoch 70/100\n",
            "1198/1198 [==============================] - 6s 5ms/step - loss: 0.0020\n",
            "Epoch 71/100\n",
            "1198/1198 [==============================] - 6s 5ms/step - loss: 0.0021\n",
            "Epoch 72/100\n",
            "1198/1198 [==============================] - 6s 5ms/step - loss: 0.0020\n",
            "Epoch 73/100\n",
            "1198/1198 [==============================] - 6s 5ms/step - loss: 0.0020\n",
            "Epoch 74/100\n",
            "1198/1198 [==============================] - 6s 5ms/step - loss: 0.0019\n",
            "Epoch 75/100\n",
            "1198/1198 [==============================] - 6s 5ms/step - loss: 0.0018\n",
            "Epoch 76/100\n",
            "1198/1198 [==============================] - 6s 5ms/step - loss: 0.0019\n",
            "Epoch 77/100\n",
            "1198/1198 [==============================] - 6s 5ms/step - loss: 0.0018\n",
            "Epoch 78/100\n",
            "1198/1198 [==============================] - 6s 5ms/step - loss: 0.0018\n",
            "Epoch 79/100\n",
            "1198/1198 [==============================] - 6s 5ms/step - loss: 0.0018\n",
            "Epoch 80/100\n",
            "1198/1198 [==============================] - 6s 5ms/step - loss: 0.0016\n",
            "Epoch 81/100\n",
            "1198/1198 [==============================] - 6s 5ms/step - loss: 0.0017\n",
            "Epoch 82/100\n",
            "1198/1198 [==============================] - 6s 5ms/step - loss: 0.0017\n",
            "Epoch 83/100\n",
            "1198/1198 [==============================] - 6s 5ms/step - loss: 0.0018\n",
            "Epoch 84/100\n",
            "1198/1198 [==============================] - 6s 5ms/step - loss: 0.0018\n",
            "Epoch 85/100\n",
            "1198/1198 [==============================] - 6s 5ms/step - loss: 0.0016\n",
            "Epoch 86/100\n",
            "1198/1198 [==============================] - 6s 5ms/step - loss: 0.0018\n",
            "Epoch 87/100\n",
            "1198/1198 [==============================] - 6s 5ms/step - loss: 0.0017\n",
            "Epoch 88/100\n",
            "1198/1198 [==============================] - 6s 5ms/step - loss: 0.0016\n",
            "Epoch 89/100\n",
            "1198/1198 [==============================] - 6s 5ms/step - loss: 0.0015\n",
            "Epoch 90/100\n",
            "1198/1198 [==============================] - 6s 5ms/step - loss: 0.0015\n",
            "Epoch 91/100\n",
            "1198/1198 [==============================] - 6s 5ms/step - loss: 0.0016\n",
            "Epoch 92/100\n",
            "1198/1198 [==============================] - 6s 5ms/step - loss: 0.0017\n",
            "Epoch 93/100\n",
            "1198/1198 [==============================] - 6s 5ms/step - loss: 0.0016\n",
            "Epoch 94/100\n",
            "1198/1198 [==============================] - 6s 5ms/step - loss: 0.0015\n",
            "Epoch 95/100\n",
            "1198/1198 [==============================] - 6s 5ms/step - loss: 0.0014\n",
            "Epoch 96/100\n",
            "1198/1198 [==============================] - 6s 5ms/step - loss: 0.0014\n",
            "Epoch 97/100\n",
            "1198/1198 [==============================] - 6s 5ms/step - loss: 0.0015\n",
            "Epoch 98/100\n",
            "1198/1198 [==============================] - 6s 5ms/step - loss: 0.0016\n",
            "Epoch 99/100\n",
            "1198/1198 [==============================] - 6s 5ms/step - loss: 0.0013\n",
            "Epoch 100/100\n",
            "1198/1198 [==============================] - 6s 5ms/step - loss: 0.0014\n"
          ],
          "name": "stdout"
        },
        {
          "output_type": "display_data",
          "data": {
            "image/png": "[encoded data removed]",
            "text/plain": [
              "<Figure size 432x288 with 1 Axes>"
            ]
          },
          "metadata": {
            "tags": []
          }
        }
      ]
    },
    {
      "cell_type": "markdown",
      "metadata": {
        "id": "IGMYwfIx7icK",
        "colab_type": "text"
      },
      "source": [
        "# New Section"
      ]
    }
  ]
}