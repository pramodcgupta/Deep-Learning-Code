{
  "nbformat": 4,
  "nbformat_minor": 0,
  "metadata": {
    "colab": {
      "name": "BankCustomerChurn_ANN.ipynb",
      "provenance": [],
      "collapsed_sections": []
    },
    "kernelspec": {
      "name": "python3",
      "display_name": "Python 3"
    }
  },
  "cells": [
    {
      "cell_type": "code",
      "metadata": {
        "id": "dGm3SsxfYD6x",
        "colab_type": "code",
        "colab": {}
      },
      "source": [
        "#-----------------------------------------------------------------\n",
        "# Pramodkumar Gupta\n",
        "# 5-Jan-2020\n",
        "# Bank Customer Churn Modelling\n",
        "#-----------------------------------------------------------------\n",
        "\n",
        "import pandas as pd\n",
        "import numpy as np\n",
        "import matplotlib.pyplot as plt"
      ],
      "execution_count": 0,
      "outputs": []
    },
    {
      "cell_type": "code",
      "metadata": {
        "id": "ygDL6uRnblCC",
        "colab_type": "code",
        "colab": {}
      },
      "source": [
        "df=pd.read_csv('Churn_Modelling.csv')"
      ],
      "execution_count": 0,
      "outputs": []
    },
    {
      "cell_type": "code",
      "metadata": {
        "id": "pRHghiNmbtAW",
        "colab_type": "code",
        "colab": {
          "base_uri": "https://localhost:8080/",
          "height": 204
        },
        "outputId": "2cdf5a5d-62a1-4c97-d512-a6a030bbe549"
      },
      "source": [
        "df.head(5)"
      ],
      "execution_count": 3,
      "outputs": [
        {
          "output_type": "execute_result",
          "data": {
            "text/html": [
              "<div>\n",
              "<style scoped>\n",
              "    .dataframe tbody tr th:only-of-type {\n",
              "        vertical-align: middle;\n",
              "    }\n",
              "\n",
              "    .dataframe tbody tr th {\n",
              "        vertical-align: top;\n",
              "    }\n",
              "\n",
              "    .dataframe thead th {\n",
              "        text-align: right;\n",
              "    }\n",
              "</style>\n",
              "<table border=\"1\" class=\"dataframe\">\n",
              "  <thead>\n",
              "    <tr style=\"text-align: right;\">\n",
              "      <th></th>\n",
              "      <th>RowNumber</th>\n",
              "      <th>CustomerId</th>\n",
              "      <th>Surname</th>\n",
              "      <th>CreditScore</th>\n",
              "      <th>Geography</th>\n",
              "      <th>Gender</th>\n",
              "      <th>Age</th>\n",
              "      <th>Tenure</th>\n",
              "      <th>Balance</th>\n",
              "      <th>NumOfProducts</th>\n",
              "      <th>HasCrCard</th>\n",
              "      <th>IsActiveMember</th>\n",
              "      <th>EstimatedSalary</th>\n",
              "      <th>Exited</th>\n",
              "    </tr>\n",
              "  </thead>\n",
              "  <tbody>\n",
              "    <tr>\n",
              "      <th>0</th>\n",
              "      <td>1</td>\n",
              "      <td>15634602</td>\n",
              "      <td>Hargrave</td>\n",
              "      <td>619</td>\n",
              "      <td>France</td>\n",
              "      <td>Female</td>\n",
              "      <td>42</td>\n",
              "      <td>2</td>\n",
              "      <td>0.00</td>\n",
              "      <td>1</td>\n",
              "      <td>1</td>\n",
              "      <td>1</td>\n",
              "      <td>101348.88</td>\n",
              "      <td>1</td>\n",
              "    </tr>\n",
              "    <tr>\n",
              "      <th>1</th>\n",
              "      <td>2</td>\n",
              "      <td>15647311</td>\n",
              "      <td>Hill</td>\n",
              "      <td>608</td>\n",
              "      <td>Spain</td>\n",
              "      <td>Female</td>\n",
              "      <td>41</td>\n",
              "      <td>1</td>\n",
              "      <td>83807.86</td>\n",
              "      <td>1</td>\n",
              "      <td>0</td>\n",
              "      <td>1</td>\n",
              "      <td>112542.58</td>\n",
              "      <td>0</td>\n",
              "    </tr>\n",
              "    <tr>\n",
              "      <th>2</th>\n",
              "      <td>3</td>\n",
              "      <td>15619304</td>\n",
              "      <td>Onio</td>\n",
              "      <td>502</td>\n",
              "      <td>France</td>\n",
              "      <td>Female</td>\n",
              "      <td>42</td>\n",
              "      <td>8</td>\n",
              "      <td>159660.80</td>\n",
              "      <td>3</td>\n",
              "      <td>1</td>\n",
              "      <td>0</td>\n",
              "      <td>113931.57</td>\n",
              "      <td>1</td>\n",
              "    </tr>\n",
              "    <tr>\n",
              "      <th>3</th>\n",
              "      <td>4</td>\n",
              "      <td>15701354</td>\n",
              "      <td>Boni</td>\n",
              "      <td>699</td>\n",
              "      <td>France</td>\n",
              "      <td>Female</td>\n",
              "      <td>39</td>\n",
              "      <td>1</td>\n",
              "      <td>0.00</td>\n",
              "      <td>2</td>\n",
              "      <td>0</td>\n",
              "      <td>0</td>\n",
              "      <td>93826.63</td>\n",
              "      <td>0</td>\n",
              "    </tr>\n",
              "    <tr>\n",
              "      <th>4</th>\n",
              "      <td>5</td>\n",
              "      <td>15737888</td>\n",
              "      <td>Mitchell</td>\n",
              "      <td>850</td>\n",
              "      <td>Spain</td>\n",
              "      <td>Female</td>\n",
              "      <td>43</td>\n",
              "      <td>2</td>\n",
              "      <td>125510.82</td>\n",
              "      <td>1</td>\n",
              "      <td>1</td>\n",
              "      <td>1</td>\n",
              "      <td>79084.10</td>\n",
              "      <td>0</td>\n",
              "    </tr>\n",
              "  </tbody>\n",
              "</table>\n",
              "</div>"
            ],
            "text/plain": [
              "   RowNumber  CustomerId   Surname  ...  IsActiveMember EstimatedSalary Exited\n",
              "0          1    15634602  Hargrave  ...               1       101348.88      1\n",
              "1          2    15647311      Hill  ...               1       112542.58      0\n",
              "2          3    15619304      Onio  ...               0       113931.57      1\n",
              "3          4    15701354      Boni  ...               0        93826.63      0\n",
              "4          5    15737888  Mitchell  ...               1        79084.10      0\n",
              "\n",
              "[5 rows x 14 columns]"
            ]
          },
          "metadata": {
            "tags": []
          },
          "execution_count": 3
        }
      ]
    },
    {
      "cell_type": "code",
      "metadata": {
        "id": "eh67XyHjbyLk",
        "colab_type": "code",
        "colab": {}
      },
      "source": [
        "X=df.iloc[:,3:13]\n",
        "y=df.iloc[:,-1]"
      ],
      "execution_count": 0,
      "outputs": []
    },
    {
      "cell_type": "code",
      "metadata": {
        "id": "roAzJZXPcFP_",
        "colab_type": "code",
        "colab": {
          "base_uri": "https://localhost:8080/",
          "height": 204
        },
        "outputId": "fa50d50e-9a33-4fdd-d8c1-5c9d1c9c00c7"
      },
      "source": [
        "X.head(5)"
      ],
      "execution_count": 5,
      "outputs": [
        {
          "output_type": "execute_result",
          "data": {
            "text/html": [
              "<div>\n",
              "<style scoped>\n",
              "    .dataframe tbody tr th:only-of-type {\n",
              "        vertical-align: middle;\n",
              "    }\n",
              "\n",
              "    .dataframe tbody tr th {\n",
              "        vertical-align: top;\n",
              "    }\n",
              "\n",
              "    .dataframe thead th {\n",
              "        text-align: right;\n",
              "    }\n",
              "</style>\n",
              "<table border=\"1\" class=\"dataframe\">\n",
              "  <thead>\n",
              "    <tr style=\"text-align: right;\">\n",
              "      <th></th>\n",
              "      <th>CreditScore</th>\n",
              "      <th>Geography</th>\n",
              "      <th>Gender</th>\n",
              "      <th>Age</th>\n",
              "      <th>Tenure</th>\n",
              "      <th>Balance</th>\n",
              "      <th>NumOfProducts</th>\n",
              "      <th>HasCrCard</th>\n",
              "      <th>IsActiveMember</th>\n",
              "      <th>EstimatedSalary</th>\n",
              "    </tr>\n",
              "  </thead>\n",
              "  <tbody>\n",
              "    <tr>\n",
              "      <th>0</th>\n",
              "      <td>619</td>\n",
              "      <td>France</td>\n",
              "      <td>Female</td>\n",
              "      <td>42</td>\n",
              "      <td>2</td>\n",
              "      <td>0.00</td>\n",
              "      <td>1</td>\n",
              "      <td>1</td>\n",
              "      <td>1</td>\n",
              "      <td>101348.88</td>\n",
              "    </tr>\n",
              "    <tr>\n",
              "      <th>1</th>\n",
              "      <td>608</td>\n",
              "      <td>Spain</td>\n",
              "      <td>Female</td>\n",
              "      <td>41</td>\n",
              "      <td>1</td>\n",
              "      <td>83807.86</td>\n",
              "      <td>1</td>\n",
              "      <td>0</td>\n",
              "      <td>1</td>\n",
              "      <td>112542.58</td>\n",
              "    </tr>\n",
              "    <tr>\n",
              "      <th>2</th>\n",
              "      <td>502</td>\n",
              "      <td>France</td>\n",
              "      <td>Female</td>\n",
              "      <td>42</td>\n",
              "      <td>8</td>\n",
              "      <td>159660.80</td>\n",
              "      <td>3</td>\n",
              "      <td>1</td>\n",
              "      <td>0</td>\n",
              "      <td>113931.57</td>\n",
              "    </tr>\n",
              "    <tr>\n",
              "      <th>3</th>\n",
              "      <td>699</td>\n",
              "      <td>France</td>\n",
              "      <td>Female</td>\n",
              "      <td>39</td>\n",
              "      <td>1</td>\n",
              "      <td>0.00</td>\n",
              "      <td>2</td>\n",
              "      <td>0</td>\n",
              "      <td>0</td>\n",
              "      <td>93826.63</td>\n",
              "    </tr>\n",
              "    <tr>\n",
              "      <th>4</th>\n",
              "      <td>850</td>\n",
              "      <td>Spain</td>\n",
              "      <td>Female</td>\n",
              "      <td>43</td>\n",
              "      <td>2</td>\n",
              "      <td>125510.82</td>\n",
              "      <td>1</td>\n",
              "      <td>1</td>\n",
              "      <td>1</td>\n",
              "      <td>79084.10</td>\n",
              "    </tr>\n",
              "  </tbody>\n",
              "</table>\n",
              "</div>"
            ],
            "text/plain": [
              "   CreditScore Geography  Gender  ...  HasCrCard  IsActiveMember  EstimatedSalary\n",
              "0          619    France  Female  ...          1               1        101348.88\n",
              "1          608     Spain  Female  ...          0               1        112542.58\n",
              "2          502    France  Female  ...          1               0        113931.57\n",
              "3          699    France  Female  ...          0               0         93826.63\n",
              "4          850     Spain  Female  ...          1               1         79084.10\n",
              "\n",
              "[5 rows x 10 columns]"
            ]
          },
          "metadata": {
            "tags": []
          },
          "execution_count": 5
        }
      ]
    },
    {
      "cell_type": "code",
      "metadata": {
        "id": "jfQ4OIyqcJ-X",
        "colab_type": "code",
        "colab": {
          "base_uri": "https://localhost:8080/",
          "height": 119
        },
        "outputId": "8471ad4b-f9b7-43ee-ddc4-74fc7b27ede0"
      },
      "source": [
        "y.head(5)"
      ],
      "execution_count": 6,
      "outputs": [
        {
          "output_type": "execute_result",
          "data": {
            "text/plain": [
              "0    1\n",
              "1    0\n",
              "2    1\n",
              "3    0\n",
              "4    0\n",
              "Name: Exited, dtype: int64"
            ]
          },
          "metadata": {
            "tags": []
          },
          "execution_count": 6
        }
      ]
    },
    {
      "cell_type": "code",
      "metadata": {
        "id": "4vXsH1KhczgJ",
        "colab_type": "code",
        "colab": {
          "base_uri": "https://localhost:8080/",
          "height": 85
        },
        "outputId": "0182d1b6-4c10-411b-cd6d-651bb7f39f81"
      },
      "source": [
        "# Handling Categorical Variables\n",
        "\n",
        "# Checking different values for Geography\n",
        "X[\"Geography\"].value_counts().sort_index()"
      ],
      "execution_count": 7,
      "outputs": [
        {
          "output_type": "execute_result",
          "data": {
            "text/plain": [
              "France     5014\n",
              "Germany    2509\n",
              "Spain      2477\n",
              "Name: Geography, dtype: int64"
            ]
          },
          "metadata": {
            "tags": []
          },
          "execution_count": 7
        }
      ]
    },
    {
      "cell_type": "code",
      "metadata": {
        "id": "NBFUWUDddKmf",
        "colab_type": "code",
        "colab": {
          "base_uri": "https://localhost:8080/",
          "height": 68
        },
        "outputId": "28658e50-c309-415c-c11b-28a5e911d120"
      },
      "source": [
        "# Checking different values for Gender\n",
        "X[\"Gender\"].value_counts().sort_index()"
      ],
      "execution_count": 8,
      "outputs": [
        {
          "output_type": "execute_result",
          "data": {
            "text/plain": [
              "Female    4543\n",
              "Male      5457\n",
              "Name: Gender, dtype: int64"
            ]
          },
          "metadata": {
            "tags": []
          },
          "execution_count": 8
        }
      ]
    },
    {
      "cell_type": "code",
      "metadata": {
        "id": "RBh82y6JcQXy",
        "colab_type": "code",
        "colab": {}
      },
      "source": [
        "# Handling Categorical attribute using get dummies\n",
        "\n",
        "geography=pd.get_dummies(X[\"Geography\"],drop_first=True)\n",
        "gender=pd.get_dummies(X[\"Gender\"],drop_first=True)"
      ],
      "execution_count": 0,
      "outputs": []
    },
    {
      "cell_type": "code",
      "metadata": {
        "id": "Fky99AjqcqeS",
        "colab_type": "code",
        "colab": {
          "base_uri": "https://localhost:8080/",
          "height": 204
        },
        "outputId": "e344d471-1a2e-4bad-ab2f-98c0f66d70aa"
      },
      "source": [
        "geography.head(5)"
      ],
      "execution_count": 10,
      "outputs": [
        {
          "output_type": "execute_result",
          "data": {
            "text/html": [
              "<div>\n",
              "<style scoped>\n",
              "    .dataframe tbody tr th:only-of-type {\n",
              "        vertical-align: middle;\n",
              "    }\n",
              "\n",
              "    .dataframe tbody tr th {\n",
              "        vertical-align: top;\n",
              "    }\n",
              "\n",
              "    .dataframe thead th {\n",
              "        text-align: right;\n",
              "    }\n",
              "</style>\n",
              "<table border=\"1\" class=\"dataframe\">\n",
              "  <thead>\n",
              "    <tr style=\"text-align: right;\">\n",
              "      <th></th>\n",
              "      <th>Germany</th>\n",
              "      <th>Spain</th>\n",
              "    </tr>\n",
              "  </thead>\n",
              "  <tbody>\n",
              "    <tr>\n",
              "      <th>0</th>\n",
              "      <td>0</td>\n",
              "      <td>0</td>\n",
              "    </tr>\n",
              "    <tr>\n",
              "      <th>1</th>\n",
              "      <td>0</td>\n",
              "      <td>1</td>\n",
              "    </tr>\n",
              "    <tr>\n",
              "      <th>2</th>\n",
              "      <td>0</td>\n",
              "      <td>0</td>\n",
              "    </tr>\n",
              "    <tr>\n",
              "      <th>3</th>\n",
              "      <td>0</td>\n",
              "      <td>0</td>\n",
              "    </tr>\n",
              "    <tr>\n",
              "      <th>4</th>\n",
              "      <td>0</td>\n",
              "      <td>1</td>\n",
              "    </tr>\n",
              "  </tbody>\n",
              "</table>\n",
              "</div>"
            ],
            "text/plain": [
              "   Germany  Spain\n",
              "0        0      0\n",
              "1        0      1\n",
              "2        0      0\n",
              "3        0      0\n",
              "4        0      1"
            ]
          },
          "metadata": {
            "tags": []
          },
          "execution_count": 10
        }
      ]
    },
    {
      "cell_type": "code",
      "metadata": {
        "id": "FoUULlxteZUE",
        "colab_type": "code",
        "colab": {}
      },
      "source": [
        "# Concate these columns with Dataframes\n",
        "X=pd.concat([X, geography, gender],axis=1)\n"
      ],
      "execution_count": 0,
      "outputs": []
    },
    {
      "cell_type": "code",
      "metadata": {
        "id": "Z0pRmE7afCdk",
        "colab_type": "code",
        "colab": {}
      },
      "source": [
        "# Dropping old Categorical columns\n",
        "X.drop(['Geography','Gender'],axis=1,inplace=True)\n"
      ],
      "execution_count": 0,
      "outputs": []
    },
    {
      "cell_type": "code",
      "metadata": {
        "id": "UL07T_hSf8SP",
        "colab_type": "code",
        "colab": {}
      },
      "source": [
        "# Feature Scaling\n",
        "from sklearn.preprocessing import StandardScaler\n",
        "sc=StandardScaler()\n",
        "X=sc.fit_transform(X)\n"
      ],
      "execution_count": 0,
      "outputs": []
    },
    {
      "cell_type": "code",
      "metadata": {
        "id": "su1Li1Agf2dc",
        "colab_type": "code",
        "colab": {}
      },
      "source": [
        "# Split dataset into train and test \n",
        "\n",
        "from sklearn.model_selection import train_test_split\n",
        "X_train, X_test, y_train, y_test = train_test_split(X,y,test_size=0.20,random_state=0)"
      ],
      "execution_count": 0,
      "outputs": []
    },
    {
      "cell_type": "markdown",
      "metadata": {
        "id": "jDj7Hm35nBC_",
        "colab_type": "text"
      },
      "source": [
        "Implementing ANN "
      ]
    },
    {
      "cell_type": "code",
      "metadata": {
        "id": "DtSARPtDnFkI",
        "colab_type": "code",
        "colab": {
          "base_uri": "https://localhost:8080/",
          "height": 80
        },
        "outputId": "cf165281-18bd-4d86-876d-54d43670e88b"
      },
      "source": [
        "import keras\n",
        "from keras.models import Sequential\n",
        "from keras.layers import Dense\n",
        "from keras.layers import ReLU, PReLU, LeakyReLU\n",
        "from keras.layers import Dropout"
      ],
      "execution_count": 15,
      "outputs": [
        {
          "output_type": "stream",
          "text": [
            "Using TensorFlow backend.\n"
          ],
          "name": "stderr"
        },
        {
          "output_type": "display_data",
          "data": {
            "text/html": [
              "<p style=\"color: red;\">\n",
              "The default version of TensorFlow in Colab will soon switch to TensorFlow 2.x.<br>\n",
              "We recommend you <a href=\"https://www.tensorflow.org/guide/migrate\" target=\"_blank\">upgrade</a> now \n",
              "or ensure your notebook will continue to use TensorFlow 1.x via the <code>%tensorflow_version 1.x</code> magic:\n",
              "<a href=\"https://colab.research.google.com/notebooks/tensorflow_version.ipynb\" target=\"_blank\">more info</a>.</p>\n"
            ],
            "text/plain": [
              "<IPython.core.display.HTML object>"
            ]
          },
          "metadata": {
            "tags": []
          }
        }
      ]
    },
    {
      "cell_type": "code",
      "metadata": {
        "id": "uK1FqjFjyZC-",
        "colab_type": "code",
        "colab": {
          "base_uri": "https://localhost:8080/",
          "height": 71
        },
        "outputId": "e14c17d8-d1ce-4979-c2bb-13aa38487630"
      },
      "source": [
        "classifier=Sequential()"
      ],
      "execution_count": 16,
      "outputs": [
        {
          "output_type": "stream",
          "text": [
            "WARNING:tensorflow:From /usr/local/lib/python3.6/dist-packages/keras/backend/tensorflow_backend.py:66: The name tf.get_default_graph is deprecated. Please use tf.compat.v1.get_default_graph instead.\n",
            "\n"
          ],
          "name": "stdout"
        }
      ]
    },
    {
      "cell_type": "code",
      "metadata": {
        "id": "Dj-el5gVyqRj",
        "colab_type": "code",
        "colab": {
          "base_uri": "https://localhost:8080/",
          "height": 105
        },
        "outputId": "3bd86136-9754-4f42-a32a-baf07c41df7e"
      },
      "source": [
        "classifier.add(Dense(units=6,activation=\"relu\",kernel_initializer=\"he_uniform\",input_dim=11))"
      ],
      "execution_count": 17,
      "outputs": [
        {
          "output_type": "stream",
          "text": [
            "WARNING:tensorflow:From /usr/local/lib/python3.6/dist-packages/keras/backend/tensorflow_backend.py:541: The name tf.placeholder is deprecated. Please use tf.compat.v1.placeholder instead.\n",
            "\n",
            "WARNING:tensorflow:From /usr/local/lib/python3.6/dist-packages/keras/backend/tensorflow_backend.py:4432: The name tf.random_uniform is deprecated. Please use tf.random.uniform instead.\n",
            "\n"
          ],
          "name": "stdout"
        }
      ]
    },
    {
      "cell_type": "code",
      "metadata": {
        "id": "dYOVlDY4zXB0",
        "colab_type": "code",
        "colab": {}
      },
      "source": [
        "classifier.add(Dense(units=6,activation=\"relu\",kernel_initializer=\"he_uniform\"))"
      ],
      "execution_count": 0,
      "outputs": []
    },
    {
      "cell_type": "code",
      "metadata": {
        "id": "KQk8kO5hzaFs",
        "colab_type": "code",
        "colab": {}
      },
      "source": [
        "classifier.add(Dense(units=6,activation=\"relu\",kernel_initializer=\"he_uniform\"))"
      ],
      "execution_count": 0,
      "outputs": []
    },
    {
      "cell_type": "code",
      "metadata": {
        "id": "HUYAC5C6zc5y",
        "colab_type": "code",
        "colab": {
          "base_uri": "https://localhost:8080/",
          "height": 71
        },
        "outputId": "99de62ec-8919-49e8-ad50-76c2c43faa7b"
      },
      "source": [
        "classifier.add(Dense(units=1,activation=\"sigmoid\",kernel_initializer=\"glorot_normal\"))"
      ],
      "execution_count": 20,
      "outputs": [
        {
          "output_type": "stream",
          "text": [
            "WARNING:tensorflow:From /usr/local/lib/python3.6/dist-packages/keras/backend/tensorflow_backend.py:4479: The name tf.truncated_normal is deprecated. Please use tf.random.truncated_normal instead.\n",
            "\n"
          ],
          "name": "stdout"
        }
      ]
    },
    {
      "cell_type": "code",
      "metadata": {
        "id": "OqzlYn2Ez-Cj",
        "colab_type": "code",
        "colab": {
          "base_uri": "https://localhost:8080/",
          "height": 156
        },
        "outputId": "801fba72-9ef6-436e-c3fb-721746763390"
      },
      "source": [
        "classifier.compile(optimizer=\"adam\",loss=\"binary_crossentropy\",metrics=[\"accuracy\"])"
      ],
      "execution_count": 21,
      "outputs": [
        {
          "output_type": "stream",
          "text": [
            "WARNING:tensorflow:From /usr/local/lib/python3.6/dist-packages/keras/optimizers.py:793: The name tf.train.Optimizer is deprecated. Please use tf.compat.v1.train.Optimizer instead.\n",
            "\n",
            "WARNING:tensorflow:From /usr/local/lib/python3.6/dist-packages/keras/backend/tensorflow_backend.py:3657: The name tf.log is deprecated. Please use tf.math.log instead.\n",
            "\n",
            "WARNING:tensorflow:From /usr/local/lib/python3.6/dist-packages/tensorflow_core/python/ops/nn_impl.py:183: where (from tensorflow.python.ops.array_ops) is deprecated and will be removed in a future version.\n",
            "Instructions for updating:\n",
            "Use tf.where in 2.0, which has the same broadcast rule as np.where\n"
          ],
          "name": "stdout"
        }
      ]
    },
    {
      "cell_type": "code",
      "metadata": {
        "id": "TGWUFtjZ0jNb",
        "colab_type": "code",
        "colab": {
          "base_uri": "https://localhost:8080/",
          "height": 1000
        },
        "outputId": "bf67e666-afc3-4e1e-d71b-970fe3fcf0f0"
      },
      "source": [
        "model_history=classifier.fit(X_train, y_train,validation_split=0.33, batch_size = 10, nb_epoch = 100)"
      ],
      "execution_count": 22,
      "outputs": [
        {
          "output_type": "stream",
          "text": [
            "WARNING:tensorflow:From /usr/local/lib/python3.6/dist-packages/keras/backend/tensorflow_backend.py:1033: The name tf.assign_add is deprecated. Please use tf.compat.v1.assign_add instead.\n",
            "\n"
          ],
          "name": "stdout"
        },
        {
          "output_type": "stream",
          "text": [
            "/usr/local/lib/python3.6/dist-packages/ipykernel_launcher.py:1: UserWarning: The `nb_epoch` argument in `fit` has been renamed `epochs`.\n",
            "  \"\"\"Entry point for launching an IPython kernel.\n"
          ],
          "name": "stderr"
        },
        {
          "output_type": "stream",
          "text": [
            "WARNING:tensorflow:From /usr/local/lib/python3.6/dist-packages/keras/backend/tensorflow_backend.py:1020: The name tf.assign is deprecated. Please use tf.compat.v1.assign instead.\n",
            "\n",
            "WARNING:tensorflow:From /usr/local/lib/python3.6/dist-packages/keras/backend/tensorflow_backend.py:3005: The name tf.Session is deprecated. Please use tf.compat.v1.Session instead.\n",
            "\n",
            "Train on 5359 samples, validate on 2641 samples\n",
            "Epoch 1/100\n",
            "WARNING:tensorflow:From /usr/local/lib/python3.6/dist-packages/keras/backend/tensorflow_backend.py:190: The name tf.get_default_session is deprecated. Please use tf.compat.v1.get_default_session instead.\n",
            "\n",
            "WARNING:tensorflow:From /usr/local/lib/python3.6/dist-packages/keras/backend/tensorflow_backend.py:197: The name tf.ConfigProto is deprecated. Please use tf.compat.v1.ConfigProto instead.\n",
            "\n",
            "WARNING:tensorflow:From /usr/local/lib/python3.6/dist-packages/keras/backend/tensorflow_backend.py:207: The name tf.global_variables is deprecated. Please use tf.compat.v1.global_variables instead.\n",
            "\n",
            "WARNING:tensorflow:From /usr/local/lib/python3.6/dist-packages/keras/backend/tensorflow_backend.py:216: The name tf.is_variable_initialized is deprecated. Please use tf.compat.v1.is_variable_initialized instead.\n",
            "\n",
            "WARNING:tensorflow:From /usr/local/lib/python3.6/dist-packages/keras/backend/tensorflow_backend.py:223: The name tf.variables_initializer is deprecated. Please use tf.compat.v1.variables_initializer instead.\n",
            "\n",
            "5359/5359 [==============================] - 1s 240us/step - loss: 0.5185 - acc: 0.7953 - val_loss: 0.4815 - val_acc: 0.7955\n",
            "Epoch 2/100\n",
            "5359/5359 [==============================] - 1s 168us/step - loss: 0.4588 - acc: 0.7962 - val_loss: 0.4524 - val_acc: 0.7955\n",
            "Epoch 3/100\n",
            "5359/5359 [==============================] - 1s 169us/step - loss: 0.4378 - acc: 0.7994 - val_loss: 0.4422 - val_acc: 0.7993\n",
            "Epoch 4/100\n",
            "5359/5359 [==============================] - 1s 169us/step - loss: 0.4286 - acc: 0.8087 - val_loss: 0.4360 - val_acc: 0.8054\n",
            "Epoch 5/100\n",
            "5359/5359 [==============================] - 1s 172us/step - loss: 0.4225 - acc: 0.8134 - val_loss: 0.4327 - val_acc: 0.8073\n",
            "Epoch 6/100\n",
            "5359/5359 [==============================] - 1s 166us/step - loss: 0.4176 - acc: 0.8192 - val_loss: 0.4297 - val_acc: 0.8114\n",
            "Epoch 7/100\n",
            "5359/5359 [==============================] - 1s 167us/step - loss: 0.4135 - acc: 0.8235 - val_loss: 0.4295 - val_acc: 0.8046\n",
            "Epoch 8/100\n",
            "5359/5359 [==============================] - 1s 167us/step - loss: 0.4104 - acc: 0.8246 - val_loss: 0.4266 - val_acc: 0.8107\n",
            "Epoch 9/100\n",
            "5359/5359 [==============================] - 1s 167us/step - loss: 0.4076 - acc: 0.8293 - val_loss: 0.4246 - val_acc: 0.8152\n",
            "Epoch 10/100\n",
            "5359/5359 [==============================] - 1s 166us/step - loss: 0.4050 - acc: 0.8302 - val_loss: 0.4219 - val_acc: 0.8167\n",
            "Epoch 11/100\n",
            "5359/5359 [==============================] - 1s 168us/step - loss: 0.4024 - acc: 0.8311 - val_loss: 0.4203 - val_acc: 0.8179\n",
            "Epoch 12/100\n",
            "5359/5359 [==============================] - 1s 169us/step - loss: 0.4006 - acc: 0.8337 - val_loss: 0.4195 - val_acc: 0.8164\n",
            "Epoch 13/100\n",
            "5359/5359 [==============================] - 1s 183us/step - loss: 0.3982 - acc: 0.8356 - val_loss: 0.4186 - val_acc: 0.8194\n",
            "Epoch 14/100\n",
            "5359/5359 [==============================] - 1s 170us/step - loss: 0.3952 - acc: 0.8391 - val_loss: 0.4169 - val_acc: 0.8243\n",
            "Epoch 15/100\n",
            "5359/5359 [==============================] - 1s 172us/step - loss: 0.3925 - acc: 0.8380 - val_loss: 0.4132 - val_acc: 0.8266\n",
            "Epoch 16/100\n",
            "5359/5359 [==============================] - 1s 168us/step - loss: 0.3885 - acc: 0.8393 - val_loss: 0.4098 - val_acc: 0.8243\n",
            "Epoch 17/100\n",
            "5359/5359 [==============================] - 1s 169us/step - loss: 0.3836 - acc: 0.8423 - val_loss: 0.4067 - val_acc: 0.8243\n",
            "Epoch 18/100\n",
            "5359/5359 [==============================] - 1s 169us/step - loss: 0.3778 - acc: 0.8447 - val_loss: 0.3959 - val_acc: 0.8330\n",
            "Epoch 19/100\n",
            "5359/5359 [==============================] - 1s 171us/step - loss: 0.3710 - acc: 0.8487 - val_loss: 0.3883 - val_acc: 0.8342\n",
            "Epoch 20/100\n",
            "5359/5359 [==============================] - 1s 169us/step - loss: 0.3627 - acc: 0.8505 - val_loss: 0.3790 - val_acc: 0.8398\n",
            "Epoch 21/100\n",
            "5359/5359 [==============================] - 1s 168us/step - loss: 0.3552 - acc: 0.8548 - val_loss: 0.3726 - val_acc: 0.8421\n",
            "Epoch 22/100\n",
            "5359/5359 [==============================] - 1s 171us/step - loss: 0.3496 - acc: 0.8597 - val_loss: 0.3668 - val_acc: 0.8482\n",
            "Epoch 23/100\n",
            "5359/5359 [==============================] - 1s 170us/step - loss: 0.3445 - acc: 0.8578 - val_loss: 0.3630 - val_acc: 0.8478\n",
            "Epoch 24/100\n",
            "5359/5359 [==============================] - 1s 174us/step - loss: 0.3412 - acc: 0.8580 - val_loss: 0.3632 - val_acc: 0.8432\n",
            "Epoch 25/100\n",
            "5359/5359 [==============================] - 1s 170us/step - loss: 0.3389 - acc: 0.8610 - val_loss: 0.3618 - val_acc: 0.8444\n",
            "Epoch 26/100\n",
            "5359/5359 [==============================] - 1s 173us/step - loss: 0.3368 - acc: 0.8587 - val_loss: 0.3627 - val_acc: 0.8463\n",
            "Epoch 27/100\n",
            "5359/5359 [==============================] - 1s 170us/step - loss: 0.3349 - acc: 0.8615 - val_loss: 0.3618 - val_acc: 0.8448\n",
            "Epoch 28/100\n",
            "5359/5359 [==============================] - 1s 175us/step - loss: 0.3349 - acc: 0.8604 - val_loss: 0.3605 - val_acc: 0.8448\n",
            "Epoch 29/100\n",
            "5359/5359 [==============================] - 1s 176us/step - loss: 0.3341 - acc: 0.8606 - val_loss: 0.3601 - val_acc: 0.8459\n",
            "Epoch 30/100\n",
            "5359/5359 [==============================] - 1s 167us/step - loss: 0.3328 - acc: 0.8612 - val_loss: 0.3607 - val_acc: 0.8489\n",
            "Epoch 31/100\n",
            "5359/5359 [==============================] - 1s 168us/step - loss: 0.3328 - acc: 0.8606 - val_loss: 0.3607 - val_acc: 0.8478\n",
            "Epoch 32/100\n",
            "5359/5359 [==============================] - 1s 173us/step - loss: 0.3311 - acc: 0.8619 - val_loss: 0.3602 - val_acc: 0.8440\n",
            "Epoch 33/100\n",
            "5359/5359 [==============================] - 1s 168us/step - loss: 0.3311 - acc: 0.8627 - val_loss: 0.3585 - val_acc: 0.8485\n",
            "Epoch 34/100\n",
            "5359/5359 [==============================] - 1s 169us/step - loss: 0.3304 - acc: 0.8608 - val_loss: 0.3601 - val_acc: 0.8474\n",
            "Epoch 35/100\n",
            "5359/5359 [==============================] - 1s 173us/step - loss: 0.3298 - acc: 0.8640 - val_loss: 0.3591 - val_acc: 0.8463\n",
            "Epoch 36/100\n",
            "5359/5359 [==============================] - 1s 174us/step - loss: 0.3299 - acc: 0.8621 - val_loss: 0.3593 - val_acc: 0.8489\n",
            "Epoch 37/100\n",
            "5359/5359 [==============================] - 1s 169us/step - loss: 0.3290 - acc: 0.8606 - val_loss: 0.3597 - val_acc: 0.8489\n",
            "Epoch 38/100\n",
            "5359/5359 [==============================] - 1s 171us/step - loss: 0.3288 - acc: 0.8634 - val_loss: 0.3581 - val_acc: 0.8493\n",
            "Epoch 39/100\n",
            "5359/5359 [==============================] - 1s 168us/step - loss: 0.3283 - acc: 0.8649 - val_loss: 0.3585 - val_acc: 0.8508\n",
            "Epoch 40/100\n",
            "5359/5359 [==============================] - 1s 169us/step - loss: 0.3279 - acc: 0.8636 - val_loss: 0.3582 - val_acc: 0.8497\n",
            "Epoch 41/100\n",
            "5359/5359 [==============================] - 1s 172us/step - loss: 0.3281 - acc: 0.8625 - val_loss: 0.3584 - val_acc: 0.8485\n",
            "Epoch 42/100\n",
            "5359/5359 [==============================] - 1s 170us/step - loss: 0.3273 - acc: 0.8636 - val_loss: 0.3590 - val_acc: 0.8512\n",
            "Epoch 43/100\n",
            "5359/5359 [==============================] - 1s 165us/step - loss: 0.3273 - acc: 0.8638 - val_loss: 0.3562 - val_acc: 0.8493\n",
            "Epoch 44/100\n",
            "5359/5359 [==============================] - 1s 168us/step - loss: 0.3265 - acc: 0.8621 - val_loss: 0.3570 - val_acc: 0.8489\n",
            "Epoch 45/100\n",
            "5359/5359 [==============================] - 1s 170us/step - loss: 0.3265 - acc: 0.8636 - val_loss: 0.3576 - val_acc: 0.8482\n",
            "Epoch 46/100\n",
            "5359/5359 [==============================] - 1s 166us/step - loss: 0.3267 - acc: 0.8647 - val_loss: 0.3575 - val_acc: 0.8516\n",
            "Epoch 47/100\n",
            "5359/5359 [==============================] - 1s 175us/step - loss: 0.3264 - acc: 0.8627 - val_loss: 0.3575 - val_acc: 0.8516\n",
            "Epoch 48/100\n",
            "5359/5359 [==============================] - 1s 173us/step - loss: 0.3257 - acc: 0.8628 - val_loss: 0.3587 - val_acc: 0.8504\n",
            "Epoch 49/100\n",
            "5359/5359 [==============================] - 1s 169us/step - loss: 0.3258 - acc: 0.8625 - val_loss: 0.3571 - val_acc: 0.8512\n",
            "Epoch 50/100\n",
            "5359/5359 [==============================] - 1s 172us/step - loss: 0.3253 - acc: 0.8640 - val_loss: 0.3588 - val_acc: 0.8512\n",
            "Epoch 51/100\n",
            "5359/5359 [==============================] - 1s 169us/step - loss: 0.3258 - acc: 0.8630 - val_loss: 0.3583 - val_acc: 0.8516\n",
            "Epoch 52/100\n",
            "5359/5359 [==============================] - 1s 176us/step - loss: 0.3242 - acc: 0.8628 - val_loss: 0.3590 - val_acc: 0.8482\n",
            "Epoch 53/100\n",
            "5359/5359 [==============================] - 1s 173us/step - loss: 0.3255 - acc: 0.8628 - val_loss: 0.3590 - val_acc: 0.8508\n",
            "Epoch 54/100\n",
            "5359/5359 [==============================] - 1s 169us/step - loss: 0.3250 - acc: 0.8634 - val_loss: 0.3576 - val_acc: 0.8546\n",
            "Epoch 55/100\n",
            "5359/5359 [==============================] - 1s 172us/step - loss: 0.3252 - acc: 0.8640 - val_loss: 0.3575 - val_acc: 0.8516\n",
            "Epoch 56/100\n",
            "5359/5359 [==============================] - 1s 171us/step - loss: 0.3247 - acc: 0.8643 - val_loss: 0.3585 - val_acc: 0.8489\n",
            "Epoch 57/100\n",
            "5359/5359 [==============================] - 1s 168us/step - loss: 0.3248 - acc: 0.8642 - val_loss: 0.3580 - val_acc: 0.8504\n",
            "Epoch 58/100\n",
            "5359/5359 [==============================] - 1s 171us/step - loss: 0.3244 - acc: 0.8649 - val_loss: 0.3617 - val_acc: 0.8523\n",
            "Epoch 59/100\n",
            "5359/5359 [==============================] - 1s 174us/step - loss: 0.3247 - acc: 0.8627 - val_loss: 0.3589 - val_acc: 0.8501\n",
            "Epoch 60/100\n",
            "5359/5359 [==============================] - 1s 167us/step - loss: 0.3238 - acc: 0.8642 - val_loss: 0.3580 - val_acc: 0.8535\n",
            "Epoch 61/100\n",
            "5359/5359 [==============================] - 1s 173us/step - loss: 0.3241 - acc: 0.8617 - val_loss: 0.3578 - val_acc: 0.8497\n",
            "Epoch 62/100\n",
            "5359/5359 [==============================] - 1s 173us/step - loss: 0.3246 - acc: 0.8640 - val_loss: 0.3584 - val_acc: 0.8508\n",
            "Epoch 63/100\n",
            "5359/5359 [==============================] - 1s 170us/step - loss: 0.3243 - acc: 0.8632 - val_loss: 0.3584 - val_acc: 0.8520\n",
            "Epoch 64/100\n",
            "5359/5359 [==============================] - 1s 172us/step - loss: 0.3244 - acc: 0.8634 - val_loss: 0.3587 - val_acc: 0.8489\n",
            "Epoch 65/100\n",
            "5359/5359 [==============================] - 1s 171us/step - loss: 0.3237 - acc: 0.8647 - val_loss: 0.3593 - val_acc: 0.8501\n",
            "Epoch 66/100\n",
            "5359/5359 [==============================] - 1s 169us/step - loss: 0.3242 - acc: 0.8651 - val_loss: 0.3626 - val_acc: 0.8535\n",
            "Epoch 67/100\n",
            "5359/5359 [==============================] - 1s 168us/step - loss: 0.3236 - acc: 0.8638 - val_loss: 0.3580 - val_acc: 0.8497\n",
            "Epoch 68/100\n",
            "5359/5359 [==============================] - 1s 180us/step - loss: 0.3239 - acc: 0.8625 - val_loss: 0.3575 - val_acc: 0.8535\n",
            "Epoch 69/100\n",
            "5359/5359 [==============================] - 1s 175us/step - loss: 0.3230 - acc: 0.8668 - val_loss: 0.3590 - val_acc: 0.8512\n",
            "Epoch 70/100\n",
            "5359/5359 [==============================] - 1s 176us/step - loss: 0.3235 - acc: 0.8640 - val_loss: 0.3586 - val_acc: 0.8520\n",
            "Epoch 71/100\n",
            "5359/5359 [==============================] - 1s 173us/step - loss: 0.3236 - acc: 0.8643 - val_loss: 0.3581 - val_acc: 0.8516\n",
            "Epoch 72/100\n",
            "5359/5359 [==============================] - 1s 169us/step - loss: 0.3240 - acc: 0.8632 - val_loss: 0.3583 - val_acc: 0.8508\n",
            "Epoch 73/100\n",
            "5359/5359 [==============================] - 1s 169us/step - loss: 0.3233 - acc: 0.8638 - val_loss: 0.3576 - val_acc: 0.8501\n",
            "Epoch 74/100\n",
            "5359/5359 [==============================] - 1s 168us/step - loss: 0.3237 - acc: 0.8647 - val_loss: 0.3581 - val_acc: 0.8504\n",
            "Epoch 75/100\n",
            "5359/5359 [==============================] - 1s 175us/step - loss: 0.3237 - acc: 0.8647 - val_loss: 0.3610 - val_acc: 0.8497\n",
            "Epoch 76/100\n",
            "5359/5359 [==============================] - 1s 173us/step - loss: 0.3229 - acc: 0.8668 - val_loss: 0.3584 - val_acc: 0.8501\n",
            "Epoch 77/100\n",
            "5359/5359 [==============================] - 1s 170us/step - loss: 0.3229 - acc: 0.8666 - val_loss: 0.3589 - val_acc: 0.8497\n",
            "Epoch 78/100\n",
            "5359/5359 [==============================] - 1s 169us/step - loss: 0.3236 - acc: 0.8636 - val_loss: 0.3600 - val_acc: 0.8512\n",
            "Epoch 79/100\n",
            "5359/5359 [==============================] - 1s 172us/step - loss: 0.3229 - acc: 0.8670 - val_loss: 0.3581 - val_acc: 0.8512\n",
            "Epoch 80/100\n",
            "5359/5359 [==============================] - 1s 168us/step - loss: 0.3226 - acc: 0.8638 - val_loss: 0.3602 - val_acc: 0.8508\n",
            "Epoch 81/100\n",
            "5359/5359 [==============================] - 1s 174us/step - loss: 0.3230 - acc: 0.8649 - val_loss: 0.3591 - val_acc: 0.8504\n",
            "Epoch 82/100\n",
            "5359/5359 [==============================] - 1s 169us/step - loss: 0.3230 - acc: 0.8651 - val_loss: 0.3589 - val_acc: 0.8520\n",
            "Epoch 83/100\n",
            "5359/5359 [==============================] - 1s 174us/step - loss: 0.3228 - acc: 0.8643 - val_loss: 0.3583 - val_acc: 0.8523\n",
            "Epoch 84/100\n",
            "5359/5359 [==============================] - 1s 168us/step - loss: 0.3227 - acc: 0.8630 - val_loss: 0.3583 - val_acc: 0.8512\n",
            "Epoch 85/100\n",
            "5359/5359 [==============================] - 1s 168us/step - loss: 0.3223 - acc: 0.8638 - val_loss: 0.3590 - val_acc: 0.8501\n",
            "Epoch 86/100\n",
            "5359/5359 [==============================] - 1s 179us/step - loss: 0.3222 - acc: 0.8647 - val_loss: 0.3578 - val_acc: 0.8535\n",
            "Epoch 87/100\n",
            "5359/5359 [==============================] - 1s 169us/step - loss: 0.3227 - acc: 0.8660 - val_loss: 0.3574 - val_acc: 0.8516\n",
            "Epoch 88/100\n",
            "5359/5359 [==============================] - 1s 169us/step - loss: 0.3225 - acc: 0.8638 - val_loss: 0.3582 - val_acc: 0.8531\n",
            "Epoch 89/100\n",
            "5359/5359 [==============================] - 1s 169us/step - loss: 0.3224 - acc: 0.8647 - val_loss: 0.3609 - val_acc: 0.8535\n",
            "Epoch 90/100\n",
            "5359/5359 [==============================] - 1s 172us/step - loss: 0.3227 - acc: 0.8640 - val_loss: 0.3575 - val_acc: 0.8565\n",
            "Epoch 91/100\n",
            "5359/5359 [==============================] - 1s 169us/step - loss: 0.3227 - acc: 0.8649 - val_loss: 0.3588 - val_acc: 0.8538\n",
            "Epoch 92/100\n",
            "5359/5359 [==============================] - 1s 170us/step - loss: 0.3227 - acc: 0.8643 - val_loss: 0.3590 - val_acc: 0.8565\n",
            "Epoch 93/100\n",
            "5359/5359 [==============================] - 1s 171us/step - loss: 0.3228 - acc: 0.8656 - val_loss: 0.3594 - val_acc: 0.8542\n",
            "Epoch 94/100\n",
            "5359/5359 [==============================] - 1s 169us/step - loss: 0.3221 - acc: 0.8653 - val_loss: 0.3582 - val_acc: 0.8542\n",
            "Epoch 95/100\n",
            "5359/5359 [==============================] - 1s 170us/step - loss: 0.3221 - acc: 0.8664 - val_loss: 0.3599 - val_acc: 0.8520\n",
            "Epoch 96/100\n",
            "5359/5359 [==============================] - 1s 171us/step - loss: 0.3215 - acc: 0.8677 - val_loss: 0.3574 - val_acc: 0.8542\n",
            "Epoch 97/100\n",
            "5359/5359 [==============================] - 1s 172us/step - loss: 0.3223 - acc: 0.8668 - val_loss: 0.3602 - val_acc: 0.8550\n",
            "Epoch 98/100\n",
            "5359/5359 [==============================] - 1s 170us/step - loss: 0.3221 - acc: 0.8662 - val_loss: 0.3591 - val_acc: 0.8546\n",
            "Epoch 99/100\n",
            "5359/5359 [==============================] - 1s 167us/step - loss: 0.3228 - acc: 0.8656 - val_loss: 0.3583 - val_acc: 0.8542\n",
            "Epoch 100/100\n",
            "5359/5359 [==============================] - 1s 169us/step - loss: 0.3223 - acc: 0.8643 - val_loss: 0.3584 - val_acc: 0.8550\n"
          ],
          "name": "stdout"
        }
      ]
    },
    {
      "cell_type": "code",
      "metadata": {
        "id": "85fxlMQ11B8w",
        "colab_type": "code",
        "colab": {
          "base_uri": "https://localhost:8080/",
          "height": 102
        },
        "outputId": "91e441a9-3b5a-4370-e73e-bc077568f18e"
      },
      "source": [
        "# Part 3 - Making the predictions and evaluating the model\n",
        "\n",
        "# Predicting the Test set results\n",
        "y_pred = classifier.predict(X_test)\n",
        "y_pred = (y_pred > 0.5)\n",
        "\n",
        "# Making the Confusion Matrix\n",
        "from sklearn.metrics import confusion_matrix\n",
        "cm = confusion_matrix(y_test, y_pred)\n",
        "print(\"Confusion Matrix: \")\n",
        "print(cm)\n",
        "# Calculate the Accuracy\n",
        "from sklearn.metrics import accuracy_score\n",
        "score=accuracy_score(y_pred,y_test)\n",
        "print(\"\\nAccuracy: {}\".format(score))"
      ],
      "execution_count": 23,
      "outputs": [
        {
          "output_type": "stream",
          "text": [
            "Confusion Matrix: \n",
            "[[1522   73]\n",
            " [ 201  204]]\n",
            "\n",
            "Accuracy: 0.863\n"
          ],
          "name": "stdout"
        }
      ]
    },
    {
      "cell_type": "code",
      "metadata": {
        "id": "6SlVL08f3bgv",
        "colab_type": "code",
        "colab": {
          "base_uri": "https://localhost:8080/",
          "height": 312
        },
        "outputId": "7d942b97-06e5-4879-c38a-2d85eef5b9f2"
      },
      "source": [
        "# list all data in history\n",
        "\n",
        "print(model_history.history.keys())\n",
        "# summarize history for accuracy\n",
        "plt.plot(model_history.history['acc'])\n",
        "plt.plot(model_history.history['val_acc'])\n",
        "plt.title('model accuracy')\n",
        "plt.ylabel('accuracy')\n",
        "plt.xlabel('epoch')\n",
        "plt.legend(['train', 'test'], loc='upper left')\n",
        "plt.show()"
      ],
      "execution_count": 24,
      "outputs": [
        {
          "output_type": "stream",
          "text": [
            "dict_keys(['val_loss', 'val_acc', 'loss', 'acc'])\n"
          ],
          "name": "stdout"
        },
        {
          "output_type": "display_data",
          "data": {
            "image/png": "[encoded data removed]",
            "text/plain": [
              "<Figure size 432x288 with 1 Axes>"
            ]
          },
          "metadata": {
            "tags": []
          }
        }
      ]
    },
    {
      "cell_type": "code",
      "metadata": {
        "id": "wQPFZfSj3weN",
        "colab_type": "code",
        "colab": {
          "base_uri": "https://localhost:8080/",
          "height": 295
        },
        "outputId": "4456634b-c00b-4e80-f751-c35e93f092ed"
      },
      "source": [
        "# summarize history for loss\n",
        "plt.plot(model_history.history['loss'])\n",
        "plt.plot(model_history.history['val_loss'])\n",
        "plt.title('model loss')\n",
        "plt.ylabel('loss')\n",
        "plt.xlabel('epoch')\n",
        "plt.legend(['train', 'test'], loc='upper left')\n",
        "plt.show()"
      ],
      "execution_count": 25,
      "outputs": [
        {
          "output_type": "display_data",
          "data": {
            "image/png": "[encoded data removed]",
            "text/plain": [
              "<Figure size 432x288 with 1 Axes>"
            ]
          },
          "metadata": {
            "tags": []
          }
        }
      ]
    }
  ]
}